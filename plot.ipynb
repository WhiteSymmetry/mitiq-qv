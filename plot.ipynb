{
 "cells": [
  {
   "cell_type": "markdown",
   "id": "3b368133-75c1-43b0-a62d-19caf20f667c",
   "metadata": {},
   "source": [
    "# Plot QV data"
   ]
  },
  {
   "cell_type": "code",
   "execution_count": 2,
   "id": "e62ac05d-141f-434c-87ab-c991fe208a5d",
   "metadata": {},
   "outputs": [],
   "source": [
    "import matplotlib.pyplot as plt\n",
    "from matplotlib.lines import Line2D\n",
    "from matplotlib.patches import Patch\n",
    "plt.rcParams.update({\"font.family\": \"serif\", \"font.size\": 14})\n",
    "import numpy as np\n",
    "\n",
    "from mitiq import zne"
   ]
  },
  {
   "cell_type": "markdown",
   "id": "185339f4-7893-4b1b-86b8-aea6ebe644c1",
   "metadata": {
    "tags": []
   },
   "source": [
    "## Load data"
   ]
  },
  {
   "cell_type": "code",
   "execution_count": 3,
   "id": "c53a9076-a099-449f-b274-66f7232cd23a",
   "metadata": {},
   "outputs": [],
   "source": [
    "all_raw_counts = np.loadtxt(\"all_raw_counts.txt\")\n",
    "all_scaled_counts = np.loadtxt(\"all_scaled_counts.txt\")"
   ]
  },
  {
   "cell_type": "code",
   "execution_count": 4,
   "id": "326847cd-b5a5-4798-b0e4-840aa2198232",
   "metadata": {},
   "outputs": [],
   "source": [
    "# QV parameters.\n",
    "test_qubits = [\n",
    "    # Belem qubits.\n",
    "    [0, 1, 2],\n",
    "    [1, 3, 4],\n",
    "    [0, 1, 2, 3],\n",
    "    [0, 1, 3, 4],\n",
    "    [0, 1, 2, 3, 4]\n",
    "]\n",
    "ntrials = 500\n",
    "nshots = 10_000\n",
    "\n",
    "# ZNE parameters.\n",
    "scale_factors = [1, 3, 5, 7, 9]\n",
    "nshots_zne = 2_000"
   ]
  },
  {
   "cell_type": "markdown",
   "id": "8a126182-6656-4861-844f-d2f90963b07c",
   "metadata": {},
   "source": [
    "## Set parameters"
   ]
  },
  {
   "cell_type": "code",
   "execution_count": 8,
   "id": "fa4259a0-e770-40d4-8bc1-002246026b1e",
   "metadata": {},
   "outputs": [
    {
     "data": {
      "text/plain": [
       "[1, 3, 5, 7, 9]"
      ]
     },
     "execution_count": 8,
     "metadata": {},
     "output_type": "execute_result"
    }
   ],
   "source": [
    "\"\"\"Reduce or downsample scale factors / scaled counts.\"\"\"\n",
    "start = 0\n",
    "stop = len(scale_factors)\n",
    "step = 1\n",
    "\n",
    "all_scaled_counts = all_scaled_counts[:, start:stop:step]\n",
    "scale_factors = scale_factors[start:stop:step]\n",
    "scale_factors"
   ]
  },
  {
   "cell_type": "code",
   "execution_count": 9,
   "id": "4535ad98-07bb-487d-8e94-c43d74eb0d55",
   "metadata": {},
   "outputs": [],
   "source": [
    "\"\"\"Standard deviation estimation parameters.\"\"\"\n",
    "num_resamples = 500  # Parameter for bootstrapped standard deviation\n",
    "num_batches = 5  # Parameter for empirical standard deviation\n",
    "z = 2  # Number of standard deviations to show on the plot."
   ]
  },
  {
   "cell_type": "markdown",
   "id": "543e00db-06a4-478f-a2cd-fe492c2d4f31",
   "metadata": {
    "tags": []
   },
   "source": [
    "## Helper functions"
   ]
  },
  {
   "cell_type": "code",
   "execution_count": 10,
   "id": "0eda761d-d203-4fce-9376-d6aaad07d856",
   "metadata": {},
   "outputs": [],
   "source": [
    "def get_empirical_std(all_values: np.ndarray, num_batches):\n",
    "    \"\"\"Returns the empirical standard deviation of a list of values via batching.\"\"\"\n",
    "    # Split all_values into num_batches of equal size\n",
    "    all_values = np.array(all_values)\n",
    "    \n",
    "    # Ensure exact splitting\n",
    "    batch_size = len(all_values) // num_batches\n",
    "    all_values = all_values[: batch_size * num_batches]\n",
    "    \n",
    "    batches = np.split(all_values, num_batches)\n",
    "    mean_of_all_batches = np.mean(batches, axis=1)\n",
    "    return np.std(mean_of_all_batches)\n",
    "\n",
    "\n",
    "def get_bootstrapped_std(all_values: np.ndarray, num_resamples: int, seed=None):\n",
    "    \"\"\"Returns the standard deviation of the bootstrap distribution of the mean, \n",
    "    evaluated by resampling with replacement \"num_resamples\" times the input data.\n",
    "    \"\"\"  \n",
    "    # Resample the \"all_values\" array \"num_resamples\" times with replacement\n",
    "    rng = np.random.RandomState(seed)\n",
    "    resampled_arrays = [\n",
    "        rng.choice(all_values, size=len(all_values), replace=True)\n",
    "        for _ in range(num_resamples)\n",
    "    ] \n",
    "    # Get samples from the bootstrap distribution of the mean\n",
    "    bootstrap_means = np.mean(resampled_arrays, axis=1)\n",
    "    return np.std(bootstrap_means)"
   ]
  },
  {
   "cell_type": "code",
   "execution_count": 11,
   "id": "8dc3334c-4543-4301-8d2e-677e3fd2e0b7",
   "metadata": {},
   "outputs": [],
   "source": [
    "def plot_figure(results_raw, results_raw_sigma, results_zne, results_zne_sigma, z = 2, title=None):\n",
    "    plt.figure(figsize=(7, 5))\n",
    "\n",
    "    test_volumes = sorted(set(len(qubits) for qubits in test_qubits))\n",
    "\n",
    "    markers = (\"o\", \"v\", \"s\", \"p\", \"X\", \"D\", \"<\", \"*\", \"8\", \"x\")\n",
    "    sizes = (50, 50, 50, 100, 100, 100, 100, 100, 100, 100)\n",
    "    raw_color = \"orange\"\n",
    "    zne_color = \"blue\"\n",
    "\n",
    "    \n",
    "    up_bar_raw = results_raw + z * results_raw_sigma\n",
    "    down_bar_raw = results_raw - z * results_raw_sigma\n",
    "    up_bar_zne = results_zne + z * results_zne_sigma\n",
    "    down_bar_zne = results_zne - z * results_zne_sigma\n",
    "\n",
    "    for i in range(len(results_raw)):\n",
    "        # Plot mean values\n",
    "        plt.scatter(len(test_qubits[i]), results_raw[i], marker=markers[i], color=raw_color, ec=\"black\", s=sizes[i], lw=2, alpha=0.75)\n",
    "        plt.scatter(len(test_qubits[i]), results_zne[i], marker=markers[i], color=zne_color, ec=\"black\", s=sizes[i], lw=2, alpha=0.75)\n",
    "\n",
    "        # Plot error bars.\n",
    "        plt.scatter(len(test_qubits[i]), up_bar_raw[i], marker=\"_\", color=raw_color, ec=raw_color, s= 3 * sizes[i], lw=2, alpha=0.75)\n",
    "        plt.scatter(len(test_qubits[i]), down_bar_raw[i], marker=\"_\", color=raw_color, ec=raw_color, s= 3 * sizes[i], lw=2, alpha=0.75)\n",
    "        \n",
    "        plt.scatter(len(test_qubits[i]), up_bar_zne[i], marker=\"_\", color=zne_color, ec=zne_color, s= 3 * sizes[i], lw=2, alpha=0.75)\n",
    "        plt.scatter(len(test_qubits[i]), down_bar_zne[i], marker=\"_\", color=zne_color, ec=zne_color, s= 3 * sizes[i], lw=2, alpha=0.75)\n",
    "\n",
    "\n",
    "    # Legend.\n",
    "    handles = [\n",
    "        Patch(facecolor=zne_color, edgecolor=\"black\", label=\"ZNE\"),\n",
    "        Patch(facecolor=raw_color, edgecolor=\"black\", label=\"Raw\")\n",
    "    ]\n",
    "    for i, qubits in enumerate(test_qubits):\n",
    "        handles.append(\n",
    "                Line2D([0], [0], marker=markers[i], label=\"-\".join(map(str, qubits)), color=\"black\", markerfacecolor=\"white\", markersize=10)\n",
    "        )\n",
    "    plt.legend(handles=handles, bbox_to_anchor=(1, 1))\n",
    "\n",
    "    # Stylize.\n",
    "    plt.axhline(y=2.0 / 3.0, ls=\"dashdot\", color=\"black\")\n",
    "    plt.axhline(y=(1.0 + np.log(2)) / 2.0, ls=\"dashdot\", color=\"black\")\n",
    "    plt.fill_between([min(test_volumes) - 0, max(test_volumes) + 0], y1=(1.0 + np.log(2)) / 2.0, y2=2.0 / 3.0, color=\"green\", alpha=0.25)\n",
    "    plt.fill_between([min(test_volumes) - 0, max(test_volumes) + 0], y1=min(results_raw), y2=2.0 / 3.0, color=\"grey\", alpha=0.25)\n",
    "\n",
    "    plt.xticks(sorted(set(len(qubits) for qubits in test_qubits)))\n",
    "    plt.xlabel(\"width/depth of circuit $m = d$\")\n",
    "    plt.ylabel(\"est. heavy output probability $\\hat{h}_d$\");\n",
    "    \n",
    "    if title:\n",
    "        plt.title(title)\n",
    "    \n",
    "    plt.tight_layout()"
   ]
  },
  {
   "cell_type": "markdown",
   "id": "cbc2aaab-851a-434d-bd84-1812ec7e92f7",
   "metadata": {
    "tags": []
   },
   "source": [
    "## Process data"
   ]
  },
  {
   "cell_type": "code",
   "execution_count": 12,
   "id": "ae4e7559-44a8-4058-bf25-b18d47a8b583",
   "metadata": {},
   "outputs": [
    {
     "name": "stdout",
     "output_type": "stream",
     "text": [
      "Processing results of qubits [0, 1, 2]\n",
      "Processing results of qubits [1, 3, 4]\n",
      "Processing results of qubits [0, 1, 2, 3]\n",
      "Processing results of qubits [0, 1, 3, 4]\n",
      "Processing results of qubits [0, 1, 2, 3, 4]\n"
     ]
    }
   ],
   "source": [
    "results_raw = []\n",
    "results_raw_sigma_empirical = []\n",
    "results_raw_sigma_bootstrap = []\n",
    "\n",
    "results_zne = []\n",
    "results_zne_sigma_empirical = []\n",
    "results_zne_sigma_bootstrap = []\n",
    "\n",
    "for j, qubits in enumerate(test_qubits):\n",
    "    print(\"Processing results of qubits\", qubits)\n",
    "    # Select data from this set of qubits.\n",
    "    scaled_counts_fixed_qubits = all_scaled_counts[j * ntrials : (j + 1) * ntrials]\n",
    "    raw_counts = np.array(all_raw_counts[j]) / nshots\n",
    "    \n",
    "    zne_trials = []\n",
    "    for scaled_counts in scaled_counts_fixed_qubits:\n",
    "        # Get ZNE limit\n",
    "        noise_scaled_expvalues_single_trial = scaled_counts / nshots_zne\n",
    "        zne_single_trial = zne.inference.RichardsonFactory.extrapolate(\n",
    "            scale_factors,\n",
    "            noise_scaled_expvalues_single_trial,\n",
    "        )\n",
    "        zne_trials.append(zne_single_trial)\n",
    "        \n",
    "    # Average results over `ntrials` circuits.\n",
    "    result_raw = np.mean(raw_counts)\n",
    "    result_zne = np.mean(zne_trials)\n",
    "\n",
    "    # Get std of results over `ntrials` circuits.\n",
    "    result_raw_sigma_empirical = get_empirical_std(raw_counts, num_batches=num_batches)\n",
    "    result_raw_sigma_bootstrap = get_bootstrapped_std(raw_counts, num_resamples=num_resamples)\n",
    "    \n",
    "    result_zne_sigma_empirical = get_empirical_std(zne_trials, num_batches=num_batches)\n",
    "    result_zne_sigma_bootstrap = get_bootstrapped_std(zne_trials, num_resamples=num_resamples)\n",
    "\n",
    "    # Append data for this qubit set.\n",
    "    results_raw.append(result_raw)\n",
    "    results_zne.append(result_zne)\n",
    "    \n",
    "    results_raw_sigma_empirical.append(result_raw_sigma_empirical)\n",
    "    results_raw_sigma_bootstrap.append(result_raw_sigma_bootstrap)\n",
    "    \n",
    "    results_zne_sigma_empirical.append(result_zne_sigma_empirical)\n",
    "    results_zne_sigma_bootstrap.append(result_zne_sigma_bootstrap)\n",
    "\n",
    "\n",
    "# Convert to numpy.\n",
    "results_raw = np.array(results_raw)\n",
    "results_zne = np.array(results_zne)\n",
    "\n",
    "results_raw_sigma_empirical = np.array(results_raw_sigma_empirical)\n",
    "results_raw_sigma_bootstrap = np.array(results_raw_sigma_bootstrap)\n",
    "\n",
    "results_zne_sigma_empirical = np.array(results_zne_sigma_empirical)\n",
    "results_zne_sigma_bootstrap = np.array(results_zne_sigma_bootstrap)"
   ]
  },
  {
   "cell_type": "markdown",
   "id": "f75bf7f8-085e-4119-aeb1-cb6ef3670450",
   "metadata": {
    "tags": []
   },
   "source": [
    "## Plot results"
   ]
  },
  {
   "cell_type": "code",
   "execution_count": 14,
   "id": "abf8de1b-e869-4522-82a3-406971e90a8b",
   "metadata": {},
   "outputs": [
    {
     "data": {
      "image/png": "[encoded data removed]",
      "text/plain": [
       "<Figure size 504x360 with 1 Axes>"
      ]
     },
     "metadata": {
      "needs_background": "light"
     },
     "output_type": "display_data"
    }
   ],
   "source": [
    "plot_figure(results_raw, results_raw_sigma_bootstrap, results_zne, results_zne_sigma_bootstrap, z=z)"
   ]
  },
  {
   "cell_type": "code",
   "execution_count": 16,
   "id": "08635dea-4864-4818-b49f-8fc7ab440a5f",
   "metadata": {},
   "outputs": [
    {
     "data": {
      "image/png": "[encoded data removed]",
      "text/plain": [
       "<Figure size 504x360 with 1 Axes>"
      ]
     },
     "metadata": {
      "needs_background": "light"
     },
     "output_type": "display_data"
    }
   ],
   "source": [
    "plot_figure(results_raw, results_raw_sigma_empirical, results_zne, results_zne_sigma_empirical, z=z)"
   ]
  },
  {
   "cell_type": "markdown",
   "id": "f0619a07-71d5-463c-96c0-bba62c28f3b0",
   "metadata": {},
   "source": []
  }
 ],
 "metadata": {
  "kernelspec": {
   "display_name": "Qiskit v0.34.2 (ipykernel)",
   "language": "python",
   "name": "python3"
  },
  "language_info": {
   "codemirror_mode": {
    "name": "ipython",
    "version": 3
   },
   "file_extension": ".py",
   "mimetype": "text/x-python",
   "name": "python",
   "nbconvert_exporter": "python",
   "pygments_lexer": "ipython3",
   "version": "3.8.12"
  },
  "widgets": {
   "application/vnd.jupyter.widget-state+json": {
    "state": {},
    "version_major": 2,
    "version_minor": 0
   }
  }
 },
 "nbformat": 4,
 "nbformat_minor": 5
}
